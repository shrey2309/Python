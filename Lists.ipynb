{
  "nbformat": 4,
  "nbformat_minor": 0,
  "metadata": {
    "colab": {
      "provenance": []
    },
    "kernelspec": {
      "name": "python3",
      "display_name": "Python 3"
    },
    "language_info": {
      "name": "python"
    }
  },
  "cells": [
    {
      "cell_type": "markdown",
      "source": [
        "**1. Lists**"
      ],
      "metadata": {
        "id": "t3iVyEpnf_vg"
      }
    },
    {
      "cell_type": "code",
      "execution_count": null,
      "metadata": {
        "id": "16ZO4Cesdz7G"
      },
      "outputs": [],
      "source": [
        "user_1 = ['Shrey',2465,'Lucknow','D-10' ]"
      ]
    },
    {
      "cell_type": "code",
      "source": [
        "user_1"
      ],
      "metadata": {
        "colab": {
          "base_uri": "https://localhost:8080/"
        },
        "id": "xgVJFI-yftqX",
        "outputId": "2c0201fa-f908-453f-a9a3-6e3cbbf65ea0"
      },
      "execution_count": null,
      "outputs": [
        {
          "output_type": "execute_result",
          "data": {
            "text/plain": [
              "['Shrey', 2465, 'Lucknow', 'D-10', 30, 30, 30, 30]"
            ]
          },
          "metadata": {},
          "execution_count": 7
        }
      ]
    },
    {
      "cell_type": "code",
      "source": [
        "user_1.append(30)"
      ],
      "metadata": {
        "id": "jhGhwRRmepbG"
      },
      "execution_count": null,
      "outputs": []
    },
    {
      "cell_type": "code",
      "source": [
        "user_1[7]"
      ],
      "metadata": {
        "colab": {
          "base_uri": "https://localhost:8080/"
        },
        "id": "ItF_SN1fevxw",
        "outputId": "c2f266c2-9bb2-4822-a550-b3849d800071"
      },
      "execution_count": null,
      "outputs": [
        {
          "output_type": "execute_result",
          "data": {
            "text/plain": [
              "30"
            ]
          },
          "metadata": {},
          "execution_count": 9
        }
      ]
    },
    {
      "cell_type": "code",
      "source": [
        "user_1 [1] = 'Ayush'"
      ],
      "metadata": {
        "id": "jEF7yeCxkARY"
      },
      "execution_count": null,
      "outputs": []
    },
    {
      "cell_type": "code",
      "source": [
        "print(user_1 [:])"
      ],
      "metadata": {
        "colab": {
          "base_uri": "https://localhost:8080/"
        },
        "id": "ESdzhF3qlbc7",
        "outputId": "b5dd3944-075b-4aaa-922f-5eea6160ac54"
      },
      "execution_count": null,
      "outputs": [
        {
          "output_type": "stream",
          "name": "stdout",
          "text": [
            "['Shrey', 'Ayush', 'Lucknow', 'D-10', 30, 30, 30, 30]\n"
          ]
        }
      ]
    },
    {
      "cell_type": "markdown",
      "source": [
        "# **Practice List**"
      ],
      "metadata": {
        "id": "LyLpQ4NqdHCV"
      }
    },
    {
      "cell_type": "markdown",
      "source": [
        "**--> (1) Append all the even numbers between 0-100 in a list**"
      ],
      "metadata": {
        "id": "nKrhfTtVdx0f"
      }
    },
    {
      "cell_type": "code",
      "source": [
        "lst=[]\n",
        "for i in range(2,100,2):\n",
        "  lst.append(i)\n",
        "print(lst)"
      ],
      "metadata": {
        "colab": {
          "base_uri": "https://localhost:8080/"
        },
        "id": "WW6NU24smBcT",
        "outputId": "69286ff4-fbf5-46d5-8b51-991af751535a"
      },
      "execution_count": null,
      "outputs": [
        {
          "output_type": "stream",
          "name": "stdout",
          "text": [
            "[2, 4, 6, 8, 10, 12, 14, 16, 18, 20, 22, 24, 26, 28, 30, 32, 34, 36, 38, 40, 42, 44, 46, 48, 50, 52, 54, 56, 58, 60, 62, 64, 66, 68, 70, 72, 74, 76, 78, 80, 82, 84, 86, 88, 90, 92, 94, 96, 98]\n"
          ]
        }
      ]
    },
    {
      "cell_type": "markdown",
      "source": [
        "**--> (1.1) Find the sum of all the even numbers between 0-100**"
      ],
      "metadata": {
        "id": "e52xblX-d-7L"
      }
    },
    {
      "cell_type": "code",
      "source": [
        "sum = 0\n",
        "for i in range(len(lst)):\n",
        "  sum = lst[i]+sum\n",
        "print(sum)"
      ],
      "metadata": {
        "id": "R9CQUMM8Y-so",
        "outputId": "eec0927f-8d50-499f-81d1-02bdb064592e",
        "colab": {
          "base_uri": "https://localhost:8080/"
        }
      },
      "execution_count": null,
      "outputs": [
        {
          "output_type": "stream",
          "name": "stdout",
          "text": [
            "2450\n"
          ]
        }
      ]
    },
    {
      "cell_type": "markdown",
      "source": [
        "**--> (1.2) Find the sum of all the elements placed at even positions in the list**"
      ],
      "metadata": {
        "id": "KsFGU6ENefLe"
      }
    },
    {
      "cell_type": "code",
      "source": [
        "sum_even = 0\n",
        "for i in range(0,len(lst),2):\n",
        "  sum_even = lst[i] + sum_even\n",
        "print(sum_even)"
      ],
      "metadata": {
        "id": "Y0uaSl9IX2Kl",
        "outputId": "160744a8-b100-4c99-8f5d-091cd48f35a6",
        "colab": {
          "base_uri": "https://localhost:8080/"
        }
      },
      "execution_count": null,
      "outputs": [
        {
          "output_type": "stream",
          "name": "stdout",
          "text": [
            "1250\n"
          ]
        }
      ]
    },
    {
      "cell_type": "markdown",
      "source": [
        "**--> (1.3) Find the sum of all the elements placed at odd positions in the list**"
      ],
      "metadata": {
        "id": "w3gW0IXpgvUv"
      }
    },
    {
      "cell_type": "code",
      "source": [
        "sum_odd = 0\n",
        "for i in range(len(lst)):\n",
        "  if i%2 != 0:\n",
        "    sum_odd = sum_odd + lst[i]\n",
        "print(sum_odd)"
      ],
      "metadata": {
        "id": "54M2G73mgusZ",
        "outputId": "a7220137-aa06-4125-e455-960e9aaf4546",
        "colab": {
          "base_uri": "https://localhost:8080/"
        }
      },
      "execution_count": null,
      "outputs": [
        {
          "output_type": "stream",
          "name": "stdout",
          "text": [
            "1200\n"
          ]
        }
      ]
    },
    {
      "cell_type": "markdown",
      "source": [
        "**--> (1.4) Difference between the sum_even and sum_odd**"
      ],
      "metadata": {
        "id": "YZOZiPpcmbuf"
      }
    },
    {
      "cell_type": "code",
      "source": [
        "print(sum_even - sum_odd)"
      ],
      "metadata": {
        "id": "ITl5Tewymn5B",
        "outputId": "d22611a4-f984-42c7-9ee0-8abce5b9bf3f",
        "colab": {
          "base_uri": "https://localhost:8080/"
        }
      },
      "execution_count": null,
      "outputs": [
        {
          "output_type": "stream",
          "name": "stdout",
          "text": [
            "50\n"
          ]
        }
      ]
    },
    {
      "cell_type": "code",
      "source": [
        "n = int(input(\"Enter a number : \"))\n",
        "sum = 0\n",
        "for i in range(0,n+1):\n",
        "  sum = sum + i\n",
        "print(\"Sum of all the numbers till\",n,\"=\",sum)\n"
      ],
      "metadata": {
        "id": "bu8vfUOBnKNr",
        "outputId": "6d58a766-015f-4af0-bfa9-f485a5cbe1be",
        "colab": {
          "base_uri": "https://localhost:8080/"
        }
      },
      "execution_count": null,
      "outputs": [
        {
          "output_type": "stream",
          "name": "stdout",
          "text": [
            "Enter a number : 37\n",
            "Sum of all the numbers till 37 = 703\n"
          ]
        }
      ]
    },
    {
      "cell_type": "code",
      "source": [
        "n = int(input(\"Enter a number : \"))\n",
        "print(\"Sum of all the numbers till\",n,\"=\",(n*(n+1)//2))\n"
      ],
      "metadata": {
        "id": "Sg35n_5gQHlw",
        "outputId": "07166d4f-7662-4e8c-944f-b805c1646d1d",
        "colab": {
          "base_uri": "https://localhost:8080/"
        }
      },
      "execution_count": null,
      "outputs": [
        {
          "output_type": "stream",
          "name": "stdout",
          "text": [
            "Enter a number : 12345678909876543210\n",
            "Sum of all the numbers till 12345678909876543210 = 76207893872885236167581161344436823655\n"
          ]
        }
      ]
    },
    {
      "cell_type": "markdown",
      "source": [
        "####2. Fruit List Questions"
      ],
      "metadata": {
        "id": "uR1p4PzSVac7"
      }
    },
    {
      "cell_type": "markdown",
      "metadata": {
        "id": "6e7ebd6b"
      },
      "source": [
        "Here are some practice questions on basic 1D lists in Python:\n",
        "\n",
        "```fruits = ['apple', 'banana', 'cherry', 'date', 'grape', 'mango', 'orange', 'strawberry']```\n",
        "\n",
        "\n",
        "1. **Creating and Accessing Lists:**\n",
        "   - Create a list named `fruits` containing the strings 'apple', 'banana', 'cherry', and 'date'.\n",
        "   - Print the first element of the `fruits` list.\n",
        "   - Print the last element of the `fruits` list.\n",
        "   - Print the elements from the second to the third element (inclusive) of the `fruits` list using slicing.\n",
        "\n",
        "2. **Modifying Lists:**\n",
        "   - Add the string 'grape' to the end of the `fruits` list.\n",
        "   - Change the second element of the `fruits` list to 'blueberry'.\n",
        "   - Insert the string 'orange' at the beginning of the `fruits` list.\n",
        "   - Remove the element 'cherry' from the `fruits` list.\n",
        "\n",
        "3. **Iterating through Lists:**\n",
        "   - Iterate through the `fruits` list and print each fruit on a new line.\n",
        "   - Iterate through the list of numbers and print only the even numbered fruits.\n",
        "   - Iterate through the list of numbers and print only the odd numbered fruits.\n",
        "\n",
        "\n",
        "4. **Checking Membership:**\n",
        "   - Check if 'banana' is present in the `fruits` list.\n",
        "   - Check if 'grape' is present in the `fruits` list."
      ]
    },
    {
      "cell_type": "markdown",
      "source": [
        "####2.1) Creating and Accessing Lists:"
      ],
      "metadata": {
        "id": "sejE6iOxVsf6"
      }
    },
    {
      "cell_type": "code",
      "source": [
        "# Create a list named fruits containing the strings 'apple', 'banana', 'cherry', and 'date'.\n",
        "fruits = ['apple', 'banana', 'cherry', 'date']\n",
        "fruits"
      ],
      "metadata": {
        "colab": {
          "base_uri": "https://localhost:8080/"
        },
        "id": "GVHNS8ifWDhd",
        "outputId": "24dd948b-3084-49c5-9322-ee8646ba362f"
      },
      "execution_count": 1,
      "outputs": [
        {
          "output_type": "execute_result",
          "data": {
            "text/plain": [
              "['apple', 'banana', 'cherry', 'date']"
            ]
          },
          "metadata": {},
          "execution_count": 1
        }
      ]
    },
    {
      "cell_type": "code",
      "source": [
        "# Print the first element of the fruits list.\n",
        "fruits[0]"
      ],
      "metadata": {
        "colab": {
          "base_uri": "https://localhost:8080/",
          "height": 36
        },
        "id": "ORPyxIgdWQF9",
        "outputId": "c4ffd378-8d81-482e-a011-a1d56cdccc9c"
      },
      "execution_count": 3,
      "outputs": [
        {
          "output_type": "execute_result",
          "data": {
            "text/plain": [
              "'apple'"
            ],
            "application/vnd.google.colaboratory.intrinsic+json": {
              "type": "string"
            }
          },
          "metadata": {},
          "execution_count": 3
        }
      ]
    },
    {
      "cell_type": "code",
      "source": [
        "# Print the last element of the fruits list\n",
        "fruits[-1]"
      ],
      "metadata": {
        "colab": {
          "base_uri": "https://localhost:8080/",
          "height": 36
        },
        "id": "DtGr3tOdWb37",
        "outputId": "3577e4e6-6c86-4c0b-f212-e6b8fb7491aa"
      },
      "execution_count": 4,
      "outputs": [
        {
          "output_type": "execute_result",
          "data": {
            "text/plain": [
              "'date'"
            ],
            "application/vnd.google.colaboratory.intrinsic+json": {
              "type": "string"
            }
          },
          "metadata": {},
          "execution_count": 4
        }
      ]
    },
    {
      "cell_type": "code",
      "source": [
        "# Print the elements from the second to the third element (inclusive) of the fruits list using slicing.\n",
        "print(fruits[1:3])"
      ],
      "metadata": {
        "colab": {
          "base_uri": "https://localhost:8080/"
        },
        "id": "v0CNV3GrWjUE",
        "outputId": "e9fa47f1-a93b-4a75-e216-29cfd65d164a"
      },
      "execution_count": 5,
      "outputs": [
        {
          "output_type": "stream",
          "name": "stdout",
          "text": [
            "['banana', 'cherry']\n"
          ]
        }
      ]
    },
    {
      "cell_type": "markdown",
      "source": [
        "####2.2) Modifying Lists:\n"
      ],
      "metadata": {
        "id": "Pfah9K4FXCLm"
      }
    },
    {
      "cell_type": "code",
      "source": [
        "# Add the string 'grape' to the end of the fruits list.\n",
        "fruits.append('grape')\n",
        "fruits"
      ],
      "metadata": {
        "colab": {
          "base_uri": "https://localhost:8080/"
        },
        "id": "9VVDps-JXIvF",
        "outputId": "243e81a5-1cd3-40ba-9300-637c0f53b6d4"
      },
      "execution_count": 6,
      "outputs": [
        {
          "output_type": "execute_result",
          "data": {
            "text/plain": [
              "['apple', 'banana', 'cherry', 'date', 'grape']"
            ]
          },
          "metadata": {},
          "execution_count": 6
        }
      ]
    },
    {
      "cell_type": "code",
      "source": [
        "# Change the second element of the fruits list to 'blueberry'.\n",
        "fruits[1] = 'blueberry'\n",
        "fruits"
      ],
      "metadata": {
        "colab": {
          "base_uri": "https://localhost:8080/"
        },
        "id": "TEGLQHEZXfSW",
        "outputId": "7f2d23e7-a2a0-4d09-f4f0-570ca5c558b1"
      },
      "execution_count": 7,
      "outputs": [
        {
          "output_type": "execute_result",
          "data": {
            "text/plain": [
              "['apple', 'blueberry', 'cherry', 'date', 'grape']"
            ]
          },
          "metadata": {},
          "execution_count": 7
        }
      ]
    },
    {
      "cell_type": "code",
      "source": [
        "# Insert the string 'orange' at the beginning of the fruits list.\n",
        "fruits.insert(0, 'orange')\n",
        "fruits"
      ],
      "metadata": {
        "colab": {
          "base_uri": "https://localhost:8080/"
        },
        "id": "lHuNUCWbXoFV",
        "outputId": "37bf4b21-55ed-48ce-a054-f2909c651735"
      },
      "execution_count": 8,
      "outputs": [
        {
          "output_type": "execute_result",
          "data": {
            "text/plain": [
              "['orange', 'apple', 'blueberry', 'cherry', 'date', 'grape']"
            ]
          },
          "metadata": {},
          "execution_count": 8
        }
      ]
    },
    {
      "cell_type": "code",
      "source": [
        "# Remove the element 'cherry' from the fruits list.\n",
        "fruits.remove('cherry')"
      ],
      "metadata": {
        "id": "CO5eadmcYOtk"
      },
      "execution_count": null,
      "outputs": []
    },
    {
      "cell_type": "code",
      "source": [
        "fruits"
      ],
      "metadata": {
        "colab": {
          "base_uri": "https://localhost:8080/"
        },
        "id": "7_j-SvsyYi4R",
        "outputId": "bd0f675a-b799-4d60-f12a-3172e016f1c9"
      },
      "execution_count": 13,
      "outputs": [
        {
          "output_type": "execute_result",
          "data": {
            "text/plain": [
              "['orange', 'apple', 'blueberry', 'date', 'grape']"
            ]
          },
          "metadata": {},
          "execution_count": 13
        }
      ]
    },
    {
      "cell_type": "markdown",
      "source": [
        "####2.3) List Operations:"
      ],
      "metadata": {
        "id": "k0cWO1fEYrLA"
      }
    },
    {
      "cell_type": "code",
      "source": [
        "# Iterate through the fruits list and print each fruit on a new line.\n",
        "for fruit in fruits:\n",
        "    print(fruit)"
      ],
      "metadata": {
        "colab": {
          "base_uri": "https://localhost:8080/"
        },
        "id": "7iVbUVXtYn2g",
        "outputId": "dcc7228d-a5ab-4fbf-f401-007635f7c903"
      },
      "execution_count": 14,
      "outputs": [
        {
          "output_type": "stream",
          "name": "stdout",
          "text": [
            "orange\n",
            "apple\n",
            "blueberry\n",
            "date\n",
            "grape\n"
          ]
        }
      ]
    },
    {
      "cell_type": "code",
      "source": [
        "# Iterate through the list of numbers and print only the even numbered fruits.\n",
        "for fruit in fruits[1::2]:\n",
        "  print(fruit)"
      ],
      "metadata": {
        "colab": {
          "base_uri": "https://localhost:8080/"
        },
        "id": "TMpSVVgYZBeO",
        "outputId": "b88f0707-cf85-46b2-be12-b408b06dd180"
      },
      "execution_count": 19,
      "outputs": [
        {
          "output_type": "stream",
          "name": "stdout",
          "text": [
            "apple\n",
            "date\n"
          ]
        }
      ]
    },
    {
      "cell_type": "code",
      "source": [
        "# Iterate through the list of numbers and print only the odd numbered fruits.\n",
        "for fruit in fruits[0::2]:\n",
        "  print(fruit)"
      ],
      "metadata": {
        "colab": {
          "base_uri": "https://localhost:8080/"
        },
        "id": "sOf6wftLbbpC",
        "outputId": "4efc167b-a4b7-4c4d-91d8-f81279e6e2d2"
      },
      "execution_count": 20,
      "outputs": [
        {
          "output_type": "stream",
          "name": "stdout",
          "text": [
            "orange\n",
            "blueberry\n",
            "grape\n"
          ]
        }
      ]
    },
    {
      "cell_type": "markdown",
      "source": [
        "####2.4) Checking Membership:"
      ],
      "metadata": {
        "id": "sgNv8l0kb9IU"
      }
    },
    {
      "cell_type": "code",
      "source": [
        "# Check if 'banana' is present in the fruits list.\n",
        "print('banana' in fruits)"
      ],
      "metadata": {
        "colab": {
          "base_uri": "https://localhost:8080/"
        },
        "id": "xzLZNhuUcdSm",
        "outputId": "f2c7c4f1-ba0f-4e40-e9bb-44274ee5fb32"
      },
      "execution_count": 23,
      "outputs": [
        {
          "output_type": "stream",
          "name": "stdout",
          "text": [
            "False\n"
          ]
        }
      ]
    },
    {
      "cell_type": "code",
      "source": [
        "# Check if 'grape' is present in the fruits list.\n",
        "print('grape' in fruits)"
      ],
      "metadata": {
        "colab": {
          "base_uri": "https://localhost:8080/"
        },
        "id": "cG5EeR-ldE3y",
        "outputId": "4a513656-a232-4f1d-b838-c78b62bc0a49"
      },
      "execution_count": 25,
      "outputs": [
        {
          "output_type": "stream",
          "name": "stdout",
          "text": [
            "True\n"
          ]
        }
      ]
    }
  ]
}
{
      "cell_type": "code",
      "source": [
        "# Check if 'banana' is present in the fruits list.\n",
        "print('banana' in fruits)"
      ],
      "metadata": {
        "colab": {
          "base_uri": "https://localhost:8080/"
        },
        "id": "xzLZNhuUcdSm",
        "outputId": "f2c7c4f1-ba0f-4e40-e9bb-44274ee5fb32"
      },
